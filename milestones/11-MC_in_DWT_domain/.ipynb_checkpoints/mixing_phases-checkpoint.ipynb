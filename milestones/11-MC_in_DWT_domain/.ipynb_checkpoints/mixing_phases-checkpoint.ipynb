{
 "cells": [
  {
   "cell_type": "code",
   "execution_count": 1,
   "metadata": {},
   "outputs": [],
   "source": [
    "import numpy as np\n",
    "%matplotlib inline\n",
    "import matplotlib\n",
    "import matplotlib.pyplot as plt\n",
    "import pywt\n",
    "import math"
   ]
  },
  {
   "cell_type": "code",
   "execution_count": 2,
   "metadata": {},
   "outputs": [
    {
     "name": "stdout",
     "output_type": "stream",
     "text": [
      "[ 0  1 10  8  5  7  9 18  2  6  0  0]\n"
     ]
    }
   ],
   "source": [
    "signal = np.array([0, 1, 10, 8, 5, 7, 9, 18, 2, 6, 0, 0])\n",
    "print(signal)"
   ]
  },
  {
   "cell_type": "code",
   "execution_count": 3,
   "metadata": {},
   "outputs": [
    {
     "name": "stdout",
     "output_type": "stream",
     "text": [
      "[ 0.70710678 12.72792206  8.48528137 19.09188309  5.65685425  0.        ] [-0.70710678  1.41421356 -1.41421356 -6.36396103 -2.82842712  0.        ]\n"
     ]
    }
   ],
   "source": [
    "L_phase0, H_phase0 = pywt.dwt(signal, \"haar\")\n",
    "print(L_phase0, H_phase0)"
   ]
  },
  {
   "cell_type": "code",
   "execution_count": 4,
   "metadata": {},
   "outputs": [
    {
     "name": "stdout",
     "output_type": "stream",
     "text": [
      "[ 0  0  1 10  8  5  7  9 18  2  6  0]\n"
     ]
    }
   ],
   "source": [
    "shifted_signal = np.roll(signal,1)\n",
    "print(shifted_signal)"
   ]
  },
  {
   "cell_type": "code",
   "execution_count": 5,
   "metadata": {},
   "outputs": [
    {
     "name": "stdout",
     "output_type": "stream",
     "text": [
      "[ 0.          7.77817459  9.19238816 11.3137085  14.14213562  4.24264069] [ 0.         -6.36396103  2.12132034 -1.41421356 11.3137085   4.24264069]\n"
     ]
    }
   ],
   "source": [
    "L_phase1, H_phase1 = pywt.dwt(shifted_signal, \"haar\")\n",
    "print(L_phase1, H_phase1)"
   ]
  },
  {
   "cell_type": "code",
   "execution_count": 6,
   "metadata": {},
   "outputs": [
    {
     "name": "stdout",
     "output_type": "stream",
     "text": [
      "[ 0.70710678  0.         12.72792206  7.77817459  8.48528137  9.19238816\n",
      " 19.09188309 11.3137085   5.65685425 14.14213562  0.          4.24264069]\n"
     ]
    }
   ],
   "source": [
    "L_overcomplete = np.empty(len(signal))\n",
    "L_overcomplete[0::2] = L_phase0[:]\n",
    "L_overcomplete[1::2] = L_phase1[:]\n",
    "print(L_overcomplete)"
   ]
  },
  {
   "cell_type": "code",
   "execution_count": 7,
   "metadata": {},
   "outputs": [
    {
     "name": "stdout",
     "output_type": "stream",
     "text": [
      "[-0.70710678  0.          1.41421356 -6.36396103 -1.41421356  2.12132034\n",
      " -6.36396103 -1.41421356 -2.82842712 11.3137085   0.          4.24264069]\n"
     ]
    }
   ],
   "source": [
    "H_overcomplete = np.empty(len(signal))\n",
    "H_overcomplete[0::2] = H_phase0[:]\n",
    "H_overcomplete[1::2] = H_phase1[:]\n",
    "print(H_overcomplete)"
   ]
  },
  {
   "cell_type": "code",
   "execution_count": 8,
   "metadata": {},
   "outputs": [
    {
     "name": "stdout",
     "output_type": "stream",
     "text": [
      "[ 0.  1. 10.  8.  5.  7.  9. 18.  2.  6.  0.  0.]\n"
     ]
    }
   ],
   "source": [
    "print(pywt.idwt(L_phase0, H_phase0, \"haar\"))"
   ]
  },
  {
   "cell_type": "code",
   "execution_count": 9,
   "metadata": {},
   "outputs": [
    {
     "name": "stdout",
     "output_type": "stream",
     "text": [
      "[ 0.  0.  1. 10.  8.  5.  7.  9. 18.  2.  6.  0.]\n"
     ]
    }
   ],
   "source": [
    "print(pywt.idwt(L_phase1, H_phase1, \"haar\"))"
   ]
  },
  {
   "cell_type": "code",
   "execution_count": 10,
   "metadata": {},
   "outputs": [
    {
     "data": {
      "text/plain": [
       "array([ 0.,  0.,  0.,  0.,  1.,  1., 10., 10.,  8.,  8.,  5.,  5.,  7.,\n",
       "        7.,  9.,  9., 18., 18.,  2.,  2.,  6.,  6.,  0.,  0.])"
      ]
     },
     "execution_count": 10,
     "metadata": {},
     "output_type": "execute_result"
    }
   ],
   "source": [
    "zoom = pywt.waverec([L_phase1, H_phase1, None], \"haar\")*math.sqrt(2)\n",
    "zoom"
   ]
  },
  {
   "cell_type": "code",
   "execution_count": 11,
   "metadata": {},
   "outputs": [
    {
     "name": "stdout",
     "output_type": "stream",
     "text": [
      "[ 0.5  0.5  4.5 13.5  7.5  4.5 12.5 14.5 12.  -4.   3.  -3. ]\n"
     ]
    }
   ],
   "source": [
    "print(pywt.idwt(L_phase0, H_phase1, \"haar\"))"
   ]
  },
  {
   "cell_type": "code",
   "execution_count": 12,
   "metadata": {},
   "outputs": [
    {
     "name": "stdout",
     "output_type": "stream",
     "text": [
      "[-0.5  0.5  6.5  4.5  5.5  7.5  3.5 12.5  8.  12.   3.   3. ]\n"
     ]
    }
   ],
   "source": [
    "print(pywt.idwt(L_phase1, H_phase0, \"haar\"))"
   ]
  },
  {
   "cell_type": "code",
   "execution_count": 13,
   "metadata": {},
   "outputs": [
    {
     "name": "stdout",
     "output_type": "stream",
     "text": [
      "[ 0.  1.  1. 10.  5.  7.  7.  9.  2.  6.  6.  0.]\n"
     ]
    }
   ],
   "source": [
    "L_mixed = [L_phase0[0], L_phase1[1], L_phase0[2], L_phase1[3], L_phase0[4], L_phase1[5]]\n",
    "H_mixed = [H_phase0[0], H_phase1[1], H_phase0[2], H_phase1[3], H_phase0[4], H_phase1[5]]\n",
    "print(pywt.idwt(L_mixed, H_mixed, \"haar\"))"
   ]
  },
  {
   "cell_type": "code",
   "execution_count": 14,
   "metadata": {},
   "outputs": [
    {
     "name": "stdout",
     "output_type": "stream",
     "text": [
      "0.0 1.0000000000000009 10.0 8.0 5.000000000000001 "
     ]
    }
   ],
   "source": [
    "print(pywt.idwt([L_phase0[0]], [H_phase0[0]], \"haar\")[0], end=' ')\n",
    "print(pywt.idwt([L_phase1[1]], [H_phase1[1]], \"haar\")[0], end=' ')\n",
    "print(pywt.idwt([L_phase0[1]], [H_phase0[1]], \"haar\")[0], end=' ')\n",
    "print(pywt.idwt([L_phase1[2]], [H_phase1[2]], \"haar\")[0], end=' ')\n",
    "print(pywt.idwt([L_phase0[2]], [H_phase0[2]], \"haar\")[0], end=' ')\n"
   ]
  },
  {
   "cell_type": "code",
   "execution_count": null,
   "metadata": {},
   "outputs": [],
   "source": []
  },
  {
   "cell_type": "code",
   "execution_count": 15,
   "metadata": {},
   "outputs": [
    {
     "name": "stdout",
     "output_type": "stream",
     "text": [
      "[0. 0. 0. 1.] [ 5.5  5.5  1.  10. ] [6. 6. 5. 7.] 5.000000000000001 "
     ]
    }
   ],
   "source": [
    "print(pywt.idwt([0, L_phase0[0]], [0, H_phase0[0]], \"haar\"), end=' ')\n",
    "print(pywt.idwt([L_phase1[1], L_phase1[1]], [0, H_phase1[1]], \"haar\"), end=' ')\n",
    "print(pywt.idwt([L_phase0[2], L_phase0[2]], [0, H_phase0[2]], \"haar\"), end=' ')\n",
    "print(pywt.idwt([L_phase0[2]], [H_phase0[2]], \"haar\")[0], end=' ')\n"
   ]
  },
  {
   "cell_type": "code",
   "execution_count": null,
   "metadata": {},
   "outputs": [],
   "source": []
  },
  {
   "cell_type": "code",
   "execution_count": null,
   "metadata": {},
   "outputs": [],
   "source": []
  },
  {
   "cell_type": "code",
   "execution_count": null,
   "metadata": {},
   "outputs": [],
   "source": []
  },
  {
   "cell_type": "code",
   "execution_count": null,
   "metadata": {},
   "outputs": [],
   "source": []
  }
 ],
 "metadata": {
  "kernelspec": {
   "display_name": "Python 3",
   "language": "python",
   "name": "python3"
  },
  "language_info": {
   "codemirror_mode": {
    "name": "ipython",
    "version": 3
   },
   "file_extension": ".py",
   "mimetype": "text/x-python",
   "name": "python",
   "nbconvert_exporter": "python",
   "pygments_lexer": "ipython3",
   "version": "3.8.5"
  }
 },
 "nbformat": 4,
 "nbformat_minor": 4
}
