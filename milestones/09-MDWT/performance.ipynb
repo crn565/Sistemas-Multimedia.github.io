{
 "cells": [
  {
   "cell_type": "markdown",
   "metadata": {
    "colab_type": "text",
    "id": "view-in-github"
   },
   "source": [
    "<a href=\"https://colab.research.google.com/github/vicente-gonzalez-ruiz/MCDWT-experimentos/blob/master/src/MDWT_1_5.ipynb\" target=\"_parent\"><img src=\"https://colab.research.google.com/assets/colab-badge.svg\" alt=\"Open In Colab\"/></a>"
   ]
  },
  {
   "cell_type": "markdown",
   "metadata": {},
   "source": [
    "# RD in the MDWT (Motion Discrete Wavelet Transform) domain"
   ]
  },
  {
   "cell_type": "code",
   "execution_count": 11,
   "metadata": {},
   "outputs": [],
   "source": [
    "%matplotlib inline\n",
    "\n",
    "import matplotlib\n",
    "import matplotlib.pyplot as plt\n",
    "import matplotlib.axes as ax\n",
    "import math\n",
    "import numpy as np\n",
    "from scipy import signal\n",
    "import cv2\n",
    "import os\n",
    "import pywt\n",
    "import pylab"
   ]
  },
  {
   "cell_type": "code",
   "execution_count": 12,
   "metadata": {},
   "outputs": [],
   "source": [
    "def quantizer(x, quantization_step):\n",
    "    k = (x / quantization_step).astype(np.int16)\n",
    "    return k\n",
    "\n",
    "def dequantizer(k, quantization_step):\n",
    "    y = quantization_step * k\n",
    "    return y\n",
    "\n",
    "def q_deq(x, quantization_step):\n",
    "    k = quantizer(x, quantization_step)\n",
    "    y = dequantizer(k, quantization_step)\n",
    "    return k, y"
   ]
  },
  {
   "cell_type": "code",
   "execution_count": 13,
   "metadata": {},
   "outputs": [],
   "source": [
    "def load_frame(prefix):\n",
    "    fn = f\"{prefix}.png\"\n",
    "    print(fn)\n",
    "    frame = cv2.imread(fn, cv2.IMREAD_UNCHANGED) # [rows, columns, components]\n",
    "    frame = cv2.cvtColor(frame, cv2.COLOR_BGR2RGB)\n",
    "    frame = np.array(frame)\n",
    "    frame = frame.astype(np.float32) - 32768.0\n",
    "    return frame\n",
    "\n",
    "def write_frame(frame, prefix):\n",
    "    frame = frame.astype(np.float32)\n",
    "    frame += 32768.0\n",
    "    frame = frame.astype(np.uint16)\n",
    "    cv2.imwrite(f\"{prefix}.png\", frame)\n",
    "    \n",
    "def load_indexes(prefix):\n",
    "    load_frame(prefix)\n",
    "    \n",
    "def write_indexes(prefix):\n",
    "    write_frame(prefix)"
   ]
  },
  {
   "cell_type": "code",
   "execution_count": 14,
   "metadata": {},
   "outputs": [],
   "source": [
    "def normalize(img):\n",
    "    max_component = np.max(img)\n",
    "    min_component = np.min(img)\n",
    "    max_min_component = max_component - min_component\n",
    "    return (img-min_component)/max_min_component\n",
    "\n",
    "def show_frame(frame, prefix):\n",
    "    frame = normalize(frame)\n",
    "    plt.figure(figsize=(10,10))\n",
    "    plt.title(prefix, fontsize=20)\n",
    "    plt.imshow(frame)"
   ]
  },
  {
   "cell_type": "code",
   "execution_count": 15,
   "metadata": {},
   "outputs": [],
   "source": [
    "def average_energy(x):\n",
    "    return np.sum(x.astype(np.double)*x.astype(np.double))/len(x)\n",
    "\n",
    "def MSE(x, y):\n",
    "    error_signal = x - y\n",
    "    return average_energy(error_signal)\n",
    "\n",
    "def RMSE(x, y):\n",
    "    error_signal = x - y\n",
    "    return math.sqrt(MSE(error_signal))\n",
    "\n",
    "def bytes_per_frame(frame):\n",
    "    write_frame(frame, \"/tmp/frame\")\n",
    "    length_in_bytes = os.path.getsize(\"/tmp/frame.png\")\n",
    "    return length_in_bytes"
   ]
  },
  {
   "cell_type": "code",
   "execution_count": 16,
   "metadata": {},
   "outputs": [],
   "source": [
    "def RGB_to_YCoCg(RGB_frame):\n",
    "    R, G, B = RGB_frame[:,:,0], RGB_frame[:,:,1], RGB_frame[:,:,2]\n",
    "    YCoCg_frame = np.empty_like(RGB_frame)\n",
    "    YCoCg_frame[:,:,0] =  R/4 + G/2 + B/4 \n",
    "    YCoCg_frame[:,:,1] =  R/2       - B/2\n",
    "    YCoCg_frame[:,:,2] = -R/4 + G/2 - B/4\n",
    "    return YCoCg_frame\n",
    "\n",
    "def YCoCg_to_RGB(YCoCg_frame):\n",
    "    Y, Co, Cg = YCoCg_frame[:,:,0], YCoCg_frame[:,:,1], YCoCg_frame[:,:,2]\n",
    "    RGB_frame = np.empty_like(YCoCg_frame)\n",
    "    RGB_frame[:,:,0] = Y + Co - Cg \n",
    "    RGB_frame[:,:,1] = Y      + Cg\n",
    "    RGB_frame[:,:,2] = Y - Co - Cg\n",
    "    return RGB_frame"
   ]
  },
  {
   "cell_type": "code",
   "execution_count": 17,
   "metadata": {},
   "outputs": [],
   "source": [
    "WAVELET = pywt.Wavelet(\"db5\")\n",
    "#WAVELET = pywt.Wavelet(\"bior3.5\")\n",
    "N_LEVELS = 3\n",
    "\n",
    "def color_DWT_analyze(color_frame, wavelet=WAVELET, n_levels=N_LEVELS):\n",
    "    n_channels = color_frame.shape[2]\n",
    "    color_decomposition = [None]*n_channels\n",
    "    for c in range(n_channels):\n",
    "        color_decomposition[c] = pywt.wavedec2(data=color_frame[:,:,c], wavelet=wavelet, mode='per', level=n_levels)\n",
    "    return color_decomposition # A list of \"gray\" decompositions\n",
    "\n",
    "def color_DWT_synthesize(color_decomposition, wavelet=WAVELET):\n",
    "    n_channels = len(color_decomposition)\n",
    "    #n_levels = len(color_decomposition[0])-1\n",
    "    # color_decomposition[0] <- First channel\n",
    "    # color_decomposition[0][0] <- cAn (lowest frequecy subband) of the first channel\n",
    "    # color_decomposition[0][1] <- (cHn, cVn, cDn) (lowest high-frequency subbands) of the first channel\n",
    "    # color_decomposition[0][1][0] <- cHn (LH subband) of the first channel\n",
    "    # See https://pywavelets.readthedocs.io/en/latest/ref/2d-dwt-and-idwt.html#d-multilevel-decomposition-using-wavedec2\n",
    "    _color_frame = []\n",
    "    for c in range(n_channels):\n",
    "        frame = pywt.waverec2(color_decomposition[c], wavelet=wavelet, mode='per')\n",
    "        _color_frame.append(frame)\n",
    "    n_rows = _color_frame[0].shape[0]\n",
    "    n_columns = _color_frame[0].shape[1]\n",
    "    color_frame = np.ndarray((n_rows, n_columns, n_channels), np.float64)\n",
    "    for c in range(n_channels):\n",
    "        color_frame[:,:,c] = _color_frame[c][:,:]\n",
    "    return color_frame"
   ]
  },
  {
   "cell_type": "code",
   "execution_count": 18,
   "metadata": {},
   "outputs": [],
   "source": [
    "def DWT_RD_curve(RGB_frame, n_levels=N_LEVELS):\n",
    "    n_channels = RGB_frame.shape[2]\n",
    "    RD_points = []\n",
    "    for q_step in range(0, 8):\n",
    "        YCoCg_frame = RGB_to_YCoCg(RGB_frame)\n",
    "        YCoCg_decomposition = color_DWT_analyze(YCoCg_frame, n_levels=n_levels)\n",
    "        dequantized_YCoCg_decomposition = []\n",
    "        rate = 0\n",
    "        for channel in range(n_channels):\n",
    "            # In a channel there is a decomposition\n",
    "            decomposition = YCoCg_decomposition[channel]\n",
    "            cAn = decomposition[0]\n",
    "            k, dequantized_cAn = q_deq(cAn, 1<<q_step)\n",
    "            dequantized_decomposition = [dequantized_cAn]\n",
    "            rate += bytes_per_frame(k)\n",
    "            rest_of_resolutions = decomposition[1:]\n",
    "            for resolution in rest_of_resolutions:\n",
    "                # In a resolution there is/are one/three subbands\n",
    "                dequantized_resolution = []\n",
    "                for subband in resolution:\n",
    "                    k, dequantized_subband = q_deq(subband, 1<<q_step)\n",
    "                    rate += bytes_per_frame(k)\n",
    "                    dequantized_resolution.append(dequantized_subband)\n",
    "                dequantized_decomposition.append(tuple(dequantized_resolution))\n",
    "            dequantized_YCoCg_decomposition.append(dequantized_decomposition)\n",
    "        reconstructed_YCoCg_frame = color_DWT_synthesize(dequantized_YCoCg_decomposition)\n",
    "        reconstructed_RGB_frame = YCoCg_to_RGB(reconstructed_YCoCg_frame)\n",
    "        distortion = MSE(RGB_frame, reconstructed_RGB_frame)\n",
    "        print(f\"q_step={1<<q_step:>3}, rate={rate:>7} bytes, distortion={distortion:>6.1f}\")\n",
    "        RD_points.append((rate, distortion))\n",
    "    return RD_points"
   ]
  },
  {
   "cell_type": "code",
   "execution_count": 19,
   "metadata": {},
   "outputs": [
    {
     "name": "stdout",
     "output_type": "stream",
     "text": [
      "/home/soloelectronicos/MRVC/sequences/stockholm/000\n",
      "/home/soloelectronicos/MRVC/sequences/stockholm/000.png\n",
      "q_step=  1, rate=1493755 bytes, distortion=2371.0\n",
      "q_step=  2, rate=1032779 bytes, distortion=7415.1\n",
      "q_step=  4, rate= 664467 bytes, distortion=22309.0\n",
      "q_step=  8, rate= 349217 bytes, distortion=62163.1\n",
      "q_step= 16, rate= 171805 bytes, distortion=142662.7\n",
      "q_step= 32, rate=  88702 bytes, distortion=301214.9\n",
      "q_step= 64, rate=  49961 bytes, distortion=608645.6\n",
      "q_step=128, rate=  32828 bytes, distortion=1251477.3\n",
      "/home/soloelectronicos/MRVC/sequences/stockholm/001\n",
      "/home/soloelectronicos/MRVC/sequences/stockholm/001.png\n",
      "q_step=  1, rate=1494939 bytes, distortion=2370.6\n",
      "q_step=  2, rate=1033131 bytes, distortion=7419.3\n",
      "q_step=  4, rate= 665235 bytes, distortion=22310.4\n",
      "q_step=  8, rate= 348966 bytes, distortion=62085.6\n",
      "q_step= 16, rate= 171367 bytes, distortion=142455.6\n",
      "q_step= 32, rate=  88591 bytes, distortion=300939.2\n",
      "q_step= 64, rate=  49894 bytes, distortion=608080.5\n",
      "q_step=128, rate=  32785 bytes, distortion=1256174.5\n",
      "/home/soloelectronicos/MRVC/sequences/stockholm/002\n",
      "/home/soloelectronicos/MRVC/sequences/stockholm/002.png\n",
      "q_step=  1, rate=1494746 bytes, distortion=2368.6\n",
      "q_step=  2, rate=1033537 bytes, distortion=7405.4\n",
      "q_step=  4, rate= 665994 bytes, distortion=22339.1\n",
      "q_step=  8, rate= 350675 bytes, distortion=62217.2\n",
      "q_step= 16, rate= 172073 bytes, distortion=143172.2\n",
      "q_step= 32, rate=  88744 bytes, distortion=303708.6\n",
      "q_step= 64, rate=  50030 bytes, distortion=611077.5\n",
      "q_step=128, rate=  32819 bytes, distortion=1258593.2\n",
      "/home/soloelectronicos/MRVC/sequences/stockholm/003\n",
      "/home/soloelectronicos/MRVC/sequences/stockholm/003.png\n",
      "q_step=  1, rate=1494133 bytes, distortion=2370.6\n",
      "q_step=  2, rate=1033040 bytes, distortion=7420.7\n",
      "q_step=  4, rate= 664621 bytes, distortion=22332.2\n",
      "q_step=  8, rate= 348995 bytes, distortion=62059.1\n",
      "q_step= 16, rate= 171904 bytes, distortion=142329.4\n",
      "q_step= 32, rate=  88439 bytes, distortion=301778.4\n",
      "q_step= 64, rate=  49890 bytes, distortion=608967.1\n",
      "q_step=128, rate=  32832 bytes, distortion=1253172.5\n",
      "/home/soloelectronicos/MRVC/sequences/stockholm/004\n",
      "/home/soloelectronicos/MRVC/sequences/stockholm/004.png\n",
      "q_step=  1, rate=1494510 bytes, distortion=2368.0\n",
      "q_step=  2, rate=1033924 bytes, distortion=7409.9\n",
      "q_step=  4, rate= 666229 bytes, distortion=22318.5\n",
      "q_step=  8, rate= 350292 bytes, distortion=62227.1\n",
      "q_step= 16, rate= 172177 bytes, distortion=143089.9\n",
      "q_step= 32, rate=  88430 bytes, distortion=303330.4\n",
      "q_step= 64, rate=  49991 bytes, distortion=610031.6\n",
      "q_step=128, rate=  32859 bytes, distortion=1259250.0\n"
     ]
    }
   ],
   "source": [
    "RD_curves = []\n",
    "for frame_number in range(5):\n",
    "    fn = f\"/home/soloelectronicos/MRVC/sequences/stockholm/{frame_number:03d}\"\n",
    "    print(fn)\n",
    "    RGB_frame = load_frame(fn)\n",
    "    RD_points = DWT_RD_curve(RGB_frame, n_levels=3)\n",
    "    RD_curves.append(RD_points)"
   ]
  },
  {
   "cell_type": "code",
   "execution_count": 10,
   "metadata": {},
   "outputs": [
    {
     "data": {
      "image/png": "[encoded data removed]",
      "text/plain": [
       "<Figure size 900x600 with 1 Axes>"
      ]
     },
     "metadata": {
      "needs_background": "light"
     },
     "output_type": "display_data"
    }
   ],
   "source": [
    "pylab.figure(dpi=150)\n",
    "for frame_number in range(5):\n",
    "    pylab.plot(*zip(*RD_curves[frame_number]), marker=\"x\", label=f'{frame_number:03d}')\n",
    "pylab.title(\"RD Curves of Consecutive Frames\")\n",
    "pylab.xlabel(\"Bytes/Frame\")\n",
    "pylab.ylabel(\"MSE\")\n",
    "plt.legend(loc='upper right')\n",
    "plt.yscale('log')\n",
    "#plt.xscale('log')\n",
    "pylab.show()"
   ]
  },
  {
   "cell_type": "code",
   "execution_count": null,
   "metadata": {},
   "outputs": [],
   "source": []
  }
 ],
 "metadata": {
  "colab": {
   "include_colab_link": true,
   "name": "ejemplo.ipynb",
   "provenance": []
  },
  "kernelspec": {
   "display_name": "Python 3",
   "language": "python",
   "name": "python3"
  },
  "language_info": {
   "codemirror_mode": {
    "name": "ipython",
    "version": 3
   },
   "file_extension": ".py",
   "mimetype": "text/x-python",
   "name": "python",
   "nbconvert_exporter": "python",
   "pygments_lexer": "ipython3",
   "version": "3.8.5"
  }
 },
 "nbformat": 4,
 "nbformat_minor": 1
}
